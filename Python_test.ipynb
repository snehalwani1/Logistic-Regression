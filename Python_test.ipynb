{
 "cells": [
  {
   "cell_type": "code",
   "execution_count": 8,
   "id": "b55885dd",
   "metadata": {},
   "outputs": [
    {
     "name": "stdout",
     "output_type": "stream",
     "text": [
      "Enter a number : 153\n",
      "153 is Amstrong number\n"
     ]
    }
   ],
   "source": [
    "#Amstrong number\n",
    "\n",
    "num=int(input(\"Enter a number : \")) # Take input from user\n",
    "\n",
    "sum=0 # initialize sum to 0\n",
    "\n",
    "temp=num # store user input into temporary variable\n",
    "while(temp>0): #179>0  17>0 1>0 0\n",
    "    digit=temp%10 # finding the remainder(last digit of number) by taking modulus # 9 7 1\n",
    "    sum=sum + digit**3 # finding cube and adding into sum variable  sum=0+729 sum=729+343+1\n",
    "    temp//=10 # floor division 17  1 0\n",
    "if num==sum: # if sum of cube of each digit is equal to number  then number is amstrong number\n",
    "    print(num,\"is Amstrong number\")\n",
    "else:\n",
    "     print(num,\"is not  Amstrong number\") "
   ]
  },
  {
   "cell_type": "code",
   "execution_count": 9,
   "id": "e9e6bd2b",
   "metadata": {},
   "outputs": [
    {
     "data": {
      "text/plain": [
       "729"
      ]
     },
     "execution_count": 9,
     "metadata": {},
     "output_type": "execute_result"
    }
   ],
   "source": [
    "81*9"
   ]
  },
  {
   "cell_type": "code",
   "execution_count": 10,
   "id": "c4a81f64",
   "metadata": {},
   "outputs": [
    {
     "data": {
      "text/plain": [
       "343"
      ]
     },
     "execution_count": 10,
     "metadata": {},
     "output_type": "execute_result"
    }
   ],
   "source": [
    "49*7"
   ]
  },
  {
   "cell_type": "code",
   "execution_count": null,
   "id": "a807552c",
   "metadata": {},
   "outputs": [],
   "source": []
  }
 ],
 "metadata": {
  "kernelspec": {
   "display_name": "Python 3 (ipykernel)",
   "language": "python",
   "name": "python3"
  },
  "language_info": {
   "codemirror_mode": {
    "name": "ipython",
    "version": 3
   },
   "file_extension": ".py",
   "mimetype": "text/x-python",
   "name": "python",
   "nbconvert_exporter": "python",
   "pygments_lexer": "ipython3",
   "version": "3.11.5"
  }
 },
 "nbformat": 4,
 "nbformat_minor": 5
}
