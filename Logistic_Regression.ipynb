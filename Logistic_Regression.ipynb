{
  "nbformat": 4,
  "nbformat_minor": 0,
  "metadata": {
    "colab": {
      "provenance": []
    },
    "kernelspec": {
      "name": "python3",
      "display_name": "Python 3"
    },
    "language_info": {
      "name": "python"
    }
  },
  "cells": [
    {
      "cell_type": "code",
      "execution_count": 1,
      "metadata": {
        "id": "-otdKbADStIk"
      },
      "outputs": [],
      "source": [
        "#Data Pre-procesing Step\n",
        "# importing libraries\n",
        "import numpy as nm\n",
        "import matplotlib.pyplot as mtp\n",
        "import pandas as pd"
      ]
    },
    {
      "cell_type": "code",
      "source": [
        "from google.colab import files\n",
        "upload = files.upload() #uploading file"
      ],
      "metadata": {
        "colab": {
          "base_uri": "https://localhost:8080/",
          "height": 73
        },
        "id": "TuVs6_7xSzwR",
        "outputId": "9c521a0a-746f-46e1-920c-eb9f957dff96"
      },
      "execution_count": 2,
      "outputs": [
        {
          "output_type": "display_data",
          "data": {
            "text/plain": [
              "<IPython.core.display.HTML object>"
            ],
            "text/html": [
              "\n",
              "     <input type=\"file\" id=\"files-26de764b-6075-4dee-83e3-abeb1ceccbd9\" name=\"files[]\" multiple disabled\n",
              "        style=\"border:none\" />\n",
              "     <output id=\"result-26de764b-6075-4dee-83e3-abeb1ceccbd9\">\n",
              "      Upload widget is only available when the cell has been executed in the\n",
              "      current browser session. Please rerun this cell to enable.\n",
              "      </output>\n",
              "      <script>// Copyright 2017 Google LLC\n",
              "//\n",
              "// Licensed under the Apache License, Version 2.0 (the \"License\");\n",
              "// you may not use this file except in compliance with the License.\n",
              "// You may obtain a copy of the License at\n",
              "//\n",
              "//      http://www.apache.org/licenses/LICENSE-2.0\n",
              "//\n",
              "// Unless required by applicable law or agreed to in writing, software\n",
              "// distributed under the License is distributed on an \"AS IS\" BASIS,\n",
              "// WITHOUT WARRANTIES OR CONDITIONS OF ANY KIND, either express or implied.\n",
              "// See the License for the specific language governing permissions and\n",
              "// limitations under the License.\n",
              "\n",
              "/**\n",
              " * @fileoverview Helpers for google.colab Python module.\n",
              " */\n",
              "(function(scope) {\n",
              "function span(text, styleAttributes = {}) {\n",
              "  const element = document.createElement('span');\n",
              "  element.textContent = text;\n",
              "  for (const key of Object.keys(styleAttributes)) {\n",
              "    element.style[key] = styleAttributes[key];\n",
              "  }\n",
              "  return element;\n",
              "}\n",
              "\n",
              "// Max number of bytes which will be uploaded at a time.\n",
              "const MAX_PAYLOAD_SIZE = 100 * 1024;\n",
              "\n",
              "function _uploadFiles(inputId, outputId) {\n",
              "  const steps = uploadFilesStep(inputId, outputId);\n",
              "  const outputElement = document.getElementById(outputId);\n",
              "  // Cache steps on the outputElement to make it available for the next call\n",
              "  // to uploadFilesContinue from Python.\n",
              "  outputElement.steps = steps;\n",
              "\n",
              "  return _uploadFilesContinue(outputId);\n",
              "}\n",
              "\n",
              "// This is roughly an async generator (not supported in the browser yet),\n",
              "// where there are multiple asynchronous steps and the Python side is going\n",
              "// to poll for completion of each step.\n",
              "// This uses a Promise to block the python side on completion of each step,\n",
              "// then passes the result of the previous step as the input to the next step.\n",
              "function _uploadFilesContinue(outputId) {\n",
              "  const outputElement = document.getElementById(outputId);\n",
              "  const steps = outputElement.steps;\n",
              "\n",
              "  const next = steps.next(outputElement.lastPromiseValue);\n",
              "  return Promise.resolve(next.value.promise).then((value) => {\n",
              "    // Cache the last promise value to make it available to the next\n",
              "    // step of the generator.\n",
              "    outputElement.lastPromiseValue = value;\n",
              "    return next.value.response;\n",
              "  });\n",
              "}\n",
              "\n",
              "/**\n",
              " * Generator function which is called between each async step of the upload\n",
              " * process.\n",
              " * @param {string} inputId Element ID of the input file picker element.\n",
              " * @param {string} outputId Element ID of the output display.\n",
              " * @return {!Iterable<!Object>} Iterable of next steps.\n",
              " */\n",
              "function* uploadFilesStep(inputId, outputId) {\n",
              "  const inputElement = document.getElementById(inputId);\n",
              "  inputElement.disabled = false;\n",
              "\n",
              "  const outputElement = document.getElementById(outputId);\n",
              "  outputElement.innerHTML = '';\n",
              "\n",
              "  const pickedPromise = new Promise((resolve) => {\n",
              "    inputElement.addEventListener('change', (e) => {\n",
              "      resolve(e.target.files);\n",
              "    });\n",
              "  });\n",
              "\n",
              "  const cancel = document.createElement('button');\n",
              "  inputElement.parentElement.appendChild(cancel);\n",
              "  cancel.textContent = 'Cancel upload';\n",
              "  const cancelPromise = new Promise((resolve) => {\n",
              "    cancel.onclick = () => {\n",
              "      resolve(null);\n",
              "    };\n",
              "  });\n",
              "\n",
              "  // Wait for the user to pick the files.\n",
              "  const files = yield {\n",
              "    promise: Promise.race([pickedPromise, cancelPromise]),\n",
              "    response: {\n",
              "      action: 'starting',\n",
              "    }\n",
              "  };\n",
              "\n",
              "  cancel.remove();\n",
              "\n",
              "  // Disable the input element since further picks are not allowed.\n",
              "  inputElement.disabled = true;\n",
              "\n",
              "  if (!files) {\n",
              "    return {\n",
              "      response: {\n",
              "        action: 'complete',\n",
              "      }\n",
              "    };\n",
              "  }\n",
              "\n",
              "  for (const file of files) {\n",
              "    const li = document.createElement('li');\n",
              "    li.append(span(file.name, {fontWeight: 'bold'}));\n",
              "    li.append(span(\n",
              "        `(${file.type || 'n/a'}) - ${file.size} bytes, ` +\n",
              "        `last modified: ${\n",
              "            file.lastModifiedDate ? file.lastModifiedDate.toLocaleDateString() :\n",
              "                                    'n/a'} - `));\n",
              "    const percent = span('0% done');\n",
              "    li.appendChild(percent);\n",
              "\n",
              "    outputElement.appendChild(li);\n",
              "\n",
              "    const fileDataPromise = new Promise((resolve) => {\n",
              "      const reader = new FileReader();\n",
              "      reader.onload = (e) => {\n",
              "        resolve(e.target.result);\n",
              "      };\n",
              "      reader.readAsArrayBuffer(file);\n",
              "    });\n",
              "    // Wait for the data to be ready.\n",
              "    let fileData = yield {\n",
              "      promise: fileDataPromise,\n",
              "      response: {\n",
              "        action: 'continue',\n",
              "      }\n",
              "    };\n",
              "\n",
              "    // Use a chunked sending to avoid message size limits. See b/62115660.\n",
              "    let position = 0;\n",
              "    do {\n",
              "      const length = Math.min(fileData.byteLength - position, MAX_PAYLOAD_SIZE);\n",
              "      const chunk = new Uint8Array(fileData, position, length);\n",
              "      position += length;\n",
              "\n",
              "      const base64 = btoa(String.fromCharCode.apply(null, chunk));\n",
              "      yield {\n",
              "        response: {\n",
              "          action: 'append',\n",
              "          file: file.name,\n",
              "          data: base64,\n",
              "        },\n",
              "      };\n",
              "\n",
              "      let percentDone = fileData.byteLength === 0 ?\n",
              "          100 :\n",
              "          Math.round((position / fileData.byteLength) * 100);\n",
              "      percent.textContent = `${percentDone}% done`;\n",
              "\n",
              "    } while (position < fileData.byteLength);\n",
              "  }\n",
              "\n",
              "  // All done.\n",
              "  yield {\n",
              "    response: {\n",
              "      action: 'complete',\n",
              "    }\n",
              "  };\n",
              "}\n",
              "\n",
              "scope.google = scope.google || {};\n",
              "scope.google.colab = scope.google.colab || {};\n",
              "scope.google.colab._files = {\n",
              "  _uploadFiles,\n",
              "  _uploadFilesContinue,\n",
              "};\n",
              "})(self);\n",
              "</script> "
            ]
          },
          "metadata": {}
        },
        {
          "output_type": "stream",
          "name": "stdout",
          "text": [
            "Saving suv_data.csv to suv_data.csv\n"
          ]
        }
      ]
    },
    {
      "cell_type": "code",
      "source": [
        "upload"
      ],
      "metadata": {
        "colab": {
          "base_uri": "https://localhost:8080/"
        },
        "id": "xmias1orSzy3",
        "outputId": "1dabf097-8229-400b-f9ee-da2358cac76c"
      },
      "execution_count": 3,
      "outputs": [
        {
          "output_type": "execute_result",
          "data": {
            "text/plain": [
              "{'suv_data.csv': b'User ID,Gender,Age,EstimatedSalary,Purchased\\n15624510,Male,19,19000,0\\n15810944,Male,35,20000,0\\n15668575,Female,26,43000,0\\n15603246,Female,27,57000,0\\n15804002,Male,19,76000,0\\n15728773,Male,27,58000,0\\n15598044,Female,27,84000,0\\n15694829,Female,32,150000,1\\n15600575,Male,25,33000,0\\n15727311,Female,35,65000,0\\n15570769,Female,26,80000,0\\n15606274,Female,26,52000,0\\n15746139,Male,20,86000,0\\n15704987,Male,32,18000,0\\n15628972,Male,18,82000,0\\n15697686,Male,29,80000,0\\n15733883,Male,47,25000,1\\n15617482,Male,45,26000,1\\n15704583,Male,46,28000,1\\n15621083,Female,48,29000,1\\n15649487,Male,45,22000,1\\n15736760,Female,47,49000,1\\n15714658,Male,48,41000,1\\n15599081,Female,45,22000,1\\n15705113,Male,46,23000,1\\n15631159,Male,47,20000,1\\n15792818,Male,49,28000,1\\n15633531,Female,47,30000,1\\n15744529,Male,29,43000,0\\n15669656,Male,31,18000,0\\n15581198,Male,31,74000,0\\n15729054,Female,27,137000,1\\n15573452,Female,21,16000,0\\n15776733,Female,28,44000,0\\n15724858,Male,27,90000,0\\n15713144,Male,35,27000,0\\n15690188,Female,33,28000,0\\n15689425,Male,30,49000,0\\n15671766,Female,26,72000,0\\n15782806,Female,27,31000,0\\n15764419,Female,27,17000,0\\n15591915,Female,33,51000,0\\n15772798,Male,35,108000,0\\n15792008,Male,30,15000,0\\n15715541,Female,28,84000,0\\n15639277,Male,23,20000,0\\n15798850,Male,25,79000,0\\n15776348,Female,27,54000,0\\n15727696,Male,30,135000,1\\n15793813,Female,31,89000,0\\n15694395,Female,24,32000,0\\n15764195,Female,18,44000,0\\n15744919,Female,29,83000,0\\n15671655,Female,35,23000,0\\n15654901,Female,27,58000,0\\n15649136,Female,24,55000,0\\n15775562,Female,23,48000,0\\n15807481,Male,28,79000,0\\n15642885,Male,22,18000,0\\n15789109,Female,32,117000,0\\n15814004,Male,27,20000,0\\n15673619,Male,25,87000,0\\n15595135,Female,23,66000,0\\n15583681,Male,32,120000,1\\n15605000,Female,59,83000,0\\n15718071,Male,24,58000,0\\n15679760,Male,24,19000,0\\n15654574,Female,23,82000,0\\n15577178,Female,22,63000,0\\n15595324,Female,31,68000,0\\n15756932,Male,25,80000,0\\n15726358,Female,24,27000,0\\n15595228,Female,20,23000,0\\n15782530,Female,33,113000,0\\n15592877,Male,32,18000,0\\n15651983,Male,34,112000,1\\n15746737,Male,18,52000,0\\n15774179,Female,22,27000,0\\n15667265,Female,28,87000,0\\n15655123,Female,26,17000,0\\n15595917,Male,30,80000,0\\n15668385,Male,39,42000,0\\n15709476,Male,20,49000,0\\n15711218,Male,35,88000,0\\n15798659,Female,30,62000,0\\n15663939,Female,31,118000,1\\n15694946,Male,24,55000,0\\n15631912,Female,28,85000,0\\n15768816,Male,26,81000,0\\n15682268,Male,35,50000,0\\n15684801,Male,22,81000,0\\n15636428,Female,30,116000,0\\n15809823,Male,26,15000,0\\n15699284,Female,29,28000,0\\n15786993,Female,29,83000,0\\n15709441,Female,35,44000,0\\n15710257,Female,35,25000,0\\n15582492,Male,28,123000,1\\n15575694,Male,35,73000,0\\n15756820,Female,28,37000,0\\n15766289,Male,27,88000,0\\n15593014,Male,28,59000,0\\n15584545,Female,32,86000,0\\n15675949,Female,33,149000,1\\n15672091,Female,19,21000,0\\n15801658,Male,21,72000,0\\n15706185,Female,26,35000,0\\n15789863,Male,27,89000,0\\n15720943,Male,26,86000,0\\n15697997,Female,38,80000,0\\n15665416,Female,39,71000,0\\n15660200,Female,37,71000,0\\n15619653,Male,38,61000,0\\n15773447,Male,37,55000,0\\n15739160,Male,42,80000,0\\n15689237,Male,40,57000,0\\n15679297,Male,35,75000,0\\n15591433,Male,36,52000,0\\n15642725,Male,40,59000,0\\n15701962,Male,41,59000,0\\n15811613,Female,36,75000,0\\n15741049,Male,37,72000,0\\n15724423,Female,40,75000,0\\n15574305,Male,35,53000,0\\n15678168,Female,41,51000,0\\n15697020,Female,39,61000,0\\n15610801,Male,42,65000,0\\n15745232,Male,26,32000,0\\n15722758,Male,30,17000,0\\n15792102,Female,26,84000,0\\n15675185,Male,31,58000,0\\n15801247,Male,33,31000,0\\n15725660,Male,30,87000,0\\n15638963,Female,21,68000,0\\n15800061,Female,28,55000,0\\n15578006,Male,23,63000,0\\n15668504,Female,20,82000,0\\n15687491,Male,30,107000,1\\n15610403,Female,28,59000,0\\n15741094,Male,19,25000,0\\n15807909,Male,19,85000,0\\n15666141,Female,18,68000,0\\n15617134,Male,35,59000,0\\n15783029,Male,30,89000,0\\n15622833,Female,34,25000,0\\n15746422,Female,24,89000,0\\n15750839,Female,27,96000,1\\n15749130,Female,41,30000,0\\n15779862,Male,29,61000,0\\n15767871,Male,20,74000,0\\n15679651,Female,26,15000,0\\n15576219,Male,41,45000,0\\n15699247,Male,31,76000,0\\n15619087,Female,36,50000,0\\n15605327,Male,40,47000,0\\n15610140,Female,31,15000,0\\n15791174,Male,46,59000,0\\n15602373,Male,29,75000,0\\n15762605,Male,26,30000,0\\n15598840,Female,32,135000,1\\n15744279,Male,32,100000,1\\n15670619,Male,25,90000,0\\n15599533,Female,37,33000,0\\n15757837,Male,35,38000,0\\n15697574,Female,33,69000,0\\n15578738,Female,18,86000,0\\n15762228,Female,22,55000,0\\n15614827,Female,35,71000,0\\n15789815,Male,29,148000,1\\n15579781,Female,29,47000,0\\n15587013,Male,21,88000,0\\n15570932,Male,34,115000,0\\n15794661,Female,26,118000,0\\n15581654,Female,34,43000,0\\n15644296,Female,34,72000,0\\n15614420,Female,23,28000,0\\n15609653,Female,35,47000,0\\n15594577,Male,25,22000,0\\n15584114,Male,24,23000,0\\n15673367,Female,31,34000,0\\n15685576,Male,26,16000,0\\n15774727,Female,31,71000,0\\n15694288,Female,32,117000,1\\n15603319,Male,33,43000,0\\n15759066,Female,33,60000,0\\n15814816,Male,31,66000,0\\n15724402,Female,20,82000,0\\n15571059,Female,33,41000,0\\n15674206,Male,35,72000,0\\n15715160,Male,28,32000,0\\n15730448,Male,24,84000,0\\n15662067,Female,19,26000,0\\n15779581,Male,29,43000,0\\n15662901,Male,19,70000,0\\n15689751,Male,28,89000,0\\n15667742,Male,34,43000,0\\n15738448,Female,30,79000,0\\n15680243,Female,20,36000,0\\n15745083,Male,26,80000,0\\n15708228,Male,35,22000,0\\n15628523,Male,35,39000,0\\n15708196,Male,49,74000,0\\n15735549,Female,39,134000,1\\n15809347,Female,41,71000,0\\n15660866,Female,58,101000,1\\n15766609,Female,47,47000,0\\n15654230,Female,55,130000,1\\n15794566,Female,52,114000,0\\n15800890,Female,40,142000,1\\n15697424,Female,46,22000,0\\n15724536,Female,48,96000,1\\n15735878,Male,52,150000,1\\n15707596,Female,59,42000,0\\n15657163,Male,35,58000,0\\n15622478,Male,47,43000,0\\n15779529,Female,60,108000,1\\n15636023,Male,49,65000,0\\n15582066,Male,40,78000,0\\n15666675,Female,46,96000,0\\n15732987,Male,59,143000,1\\n15789432,Female,41,80000,0\\n15663161,Male,35,91000,1\\n15694879,Male,37,144000,1\\n15593715,Male,60,102000,1\\n15575002,Female,35,60000,0\\n15622171,Male,37,53000,0\\n15795224,Female,36,126000,1\\n15685346,Male,56,133000,1\\n15691808,Female,40,72000,0\\n15721007,Female,42,80000,1\\n15794253,Female,35,147000,1\\n15694453,Male,39,42000,0\\n15813113,Male,40,107000,1\\n15614187,Male,49,86000,1\\n15619407,Female,38,112000,0\\n15646227,Male,46,79000,1\\n15660541,Male,40,57000,0\\n15753874,Female,37,80000,0\\n15617877,Female,46,82000,0\\n15772073,Female,53,143000,1\\n15701537,Male,42,149000,1\\n15736228,Male,38,59000,0\\n15780572,Female,50,88000,1\\n15769596,Female,56,104000,1\\n15586996,Female,41,72000,0\\n15722061,Female,51,146000,1\\n15638003,Female,35,50000,0\\n15775590,Female,57,122000,1\\n15730688,Male,41,52000,0\\n15753102,Female,35,97000,1\\n15810075,Female,44,39000,0\\n15723373,Male,37,52000,0\\n15795298,Female,48,134000,1\\n15584320,Female,37,146000,1\\n15724161,Female,50,44000,0\\n15750056,Female,52,90000,1\\n15609637,Female,41,72000,0\\n15794493,Male,40,57000,0\\n15569641,Female,58,95000,1\\n15815236,Female,45,131000,1\\n15811177,Female,35,77000,0\\n15680587,Male,36,144000,1\\n15672821,Female,55,125000,1\\n15767681,Female,35,72000,0\\n15600379,Male,48,90000,1\\n15801336,Female,42,108000,1\\n15721592,Male,40,75000,0\\n15581282,Male,37,74000,0\\n15746203,Female,47,144000,1\\n15583137,Male,40,61000,0\\n15680752,Female,43,133000,0\\n15688172,Female,59,76000,1\\n15791373,Male,60,42000,1\\n15589449,Male,39,106000,1\\n15692819,Female,57,26000,1\\n15727467,Male,57,74000,1\\n15734312,Male,38,71000,0\\n15764604,Male,49,88000,1\\n15613014,Female,52,38000,1\\n15759684,Female,50,36000,1\\n15609669,Female,59,88000,1\\n15685536,Male,35,61000,0\\n15750447,Male,37,70000,1\\n15663249,Female,52,21000,1\\n15638646,Male,48,141000,0\\n15734161,Female,37,93000,1\\n15631070,Female,37,62000,0\\n15761950,Female,48,138000,1\\n15649668,Male,41,79000,0\\n15713912,Female,37,78000,1\\n15586757,Male,39,134000,1\\n15596522,Male,49,89000,1\\n15625395,Male,55,39000,1\\n15760570,Male,37,77000,0\\n15566689,Female,35,57000,0\\n15725794,Female,36,63000,0\\n15673539,Male,42,73000,1\\n15705298,Female,43,112000,1\\n15675791,Male,45,79000,0\\n15747043,Male,46,117000,1\\n15736397,Female,58,38000,1\\n15678201,Male,48,74000,1\\n15720745,Female,37,137000,1\\n15637593,Male,37,79000,1\\n15598070,Female,40,60000,0\\n15787550,Male,42,54000,0\\n15603942,Female,51,134000,0\\n15733973,Female,47,113000,1\\n15596761,Male,36,125000,1\\n15652400,Female,38,50000,0\\n15717893,Female,42,70000,0\\n15622585,Male,39,96000,1\\n15733964,Female,38,50000,0\\n15753861,Female,49,141000,1\\n15747097,Female,39,79000,0\\n15594762,Female,39,75000,1\\n15667417,Female,54,104000,1\\n15684861,Male,35,55000,0\\n15742204,Male,45,32000,1\\n15623502,Male,36,60000,0\\n15774872,Female,52,138000,1\\n15611191,Female,53,82000,1\\n15674331,Male,41,52000,0\\n15619465,Female,48,30000,1\\n15575247,Female,48,131000,1\\n15695679,Female,41,60000,0\\n15713463,Male,41,72000,0\\n15785170,Female,42,75000,0\\n15796351,Male,36,118000,1\\n15639576,Female,47,107000,1\\n15693264,Male,38,51000,0\\n15589715,Female,48,119000,1\\n15769902,Male,42,65000,0\\n15587177,Male,40,65000,0\\n15814553,Male,57,60000,1\\n15601550,Female,36,54000,0\\n15664907,Male,58,144000,1\\n15612465,Male,35,79000,0\\n15810800,Female,38,55000,0\\n15665760,Male,39,122000,1\\n15588080,Female,53,104000,1\\n15776844,Male,35,75000,0\\n15717560,Female,38,65000,0\\n15629739,Female,47,51000,1\\n15729908,Male,47,105000,1\\n15716781,Female,41,63000,0\\n15646936,Male,53,72000,1\\n15768151,Female,54,108000,1\\n15579212,Male,39,77000,0\\n15721835,Male,38,61000,0\\n15800515,Female,38,113000,1\\n15591279,Male,37,75000,0\\n15587419,Female,42,90000,1\\n15750335,Female,37,57000,0\\n15699619,Male,36,99000,1\\n15606472,Male,60,34000,1\\n15778368,Male,54,70000,1\\n15671387,Female,41,72000,0\\n15573926,Male,40,71000,1\\n15709183,Male,42,54000,0\\n15577514,Male,43,129000,1\\n15778830,Female,53,34000,1\\n15768072,Female,47,50000,1\\n15768293,Female,42,79000,0\\n15654456,Male,42,104000,1\\n15807525,Female,59,29000,1\\n15574372,Female,58,47000,1\\n15671249,Male,46,88000,1\\n15779744,Male,38,71000,0\\n15624755,Female,54,26000,1\\n15611430,Female,60,46000,1\\n15774744,Male,60,83000,1\\n15629885,Female,39,73000,0\\n15708791,Male,59,130000,1\\n15793890,Female,37,80000,0\\n15646091,Female,46,32000,1\\n15596984,Female,46,74000,0\\n15800215,Female,42,53000,0\\n15577806,Male,41,87000,1\\n15749381,Female,58,23000,1\\n15683758,Male,42,64000,0\\n15670615,Male,48,33000,1\\n15715622,Female,44,139000,1\\n15707634,Male,49,28000,1\\n15806901,Female,57,33000,1\\n15775335,Male,56,60000,1\\n15724150,Female,49,39000,1\\n15627220,Male,39,71000,0\\n15672330,Male,47,34000,1\\n15668521,Female,48,35000,1\\n15807837,Male,48,33000,1\\n15592570,Male,47,23000,1\\n15748589,Female,45,45000,1\\n15635893,Male,60,42000,1\\n15757632,Female,39,59000,0\\n15691863,Female,46,41000,1\\n15706071,Male,51,23000,1\\n15654296,Female,50,20000,1\\n15755018,Male,36,33000,0\\n15594041,Female,49,36000,1\\n'}"
            ]
          },
          "metadata": {},
          "execution_count": 3
        }
      ]
    },
    {
      "cell_type": "code",
      "source": [
        "print(upload)"
      ],
      "metadata": {
        "colab": {
          "base_uri": "https://localhost:8080/"
        },
        "id": "dUIvyliwSz1f",
        "outputId": "b2f52c02-8449-48c9-8bbe-031445fe0fdd"
      },
      "execution_count": 4,
      "outputs": [
        {
          "output_type": "stream",
          "name": "stdout",
          "text": [
            "{'suv_data.csv': b'User ID,Gender,Age,EstimatedSalary,Purchased\\n15624510,Male,19,19000,0\\n15810944,Male,35,20000,0\\n15668575,Female,26,43000,0\\n15603246,Female,27,57000,0\\n15804002,Male,19,76000,0\\n15728773,Male,27,58000,0\\n15598044,Female,27,84000,0\\n15694829,Female,32,150000,1\\n15600575,Male,25,33000,0\\n15727311,Female,35,65000,0\\n15570769,Female,26,80000,0\\n15606274,Female,26,52000,0\\n15746139,Male,20,86000,0\\n15704987,Male,32,18000,0\\n15628972,Male,18,82000,0\\n15697686,Male,29,80000,0\\n15733883,Male,47,25000,1\\n15617482,Male,45,26000,1\\n15704583,Male,46,28000,1\\n15621083,Female,48,29000,1\\n15649487,Male,45,22000,1\\n15736760,Female,47,49000,1\\n15714658,Male,48,41000,1\\n15599081,Female,45,22000,1\\n15705113,Male,46,23000,1\\n15631159,Male,47,20000,1\\n15792818,Male,49,28000,1\\n15633531,Female,47,30000,1\\n15744529,Male,29,43000,0\\n15669656,Male,31,18000,0\\n15581198,Male,31,74000,0\\n15729054,Female,27,137000,1\\n15573452,Female,21,16000,0\\n15776733,Female,28,44000,0\\n15724858,Male,27,90000,0\\n15713144,Male,35,27000,0\\n15690188,Female,33,28000,0\\n15689425,Male,30,49000,0\\n15671766,Female,26,72000,0\\n15782806,Female,27,31000,0\\n15764419,Female,27,17000,0\\n15591915,Female,33,51000,0\\n15772798,Male,35,108000,0\\n15792008,Male,30,15000,0\\n15715541,Female,28,84000,0\\n15639277,Male,23,20000,0\\n15798850,Male,25,79000,0\\n15776348,Female,27,54000,0\\n15727696,Male,30,135000,1\\n15793813,Female,31,89000,0\\n15694395,Female,24,32000,0\\n15764195,Female,18,44000,0\\n15744919,Female,29,83000,0\\n15671655,Female,35,23000,0\\n15654901,Female,27,58000,0\\n15649136,Female,24,55000,0\\n15775562,Female,23,48000,0\\n15807481,Male,28,79000,0\\n15642885,Male,22,18000,0\\n15789109,Female,32,117000,0\\n15814004,Male,27,20000,0\\n15673619,Male,25,87000,0\\n15595135,Female,23,66000,0\\n15583681,Male,32,120000,1\\n15605000,Female,59,83000,0\\n15718071,Male,24,58000,0\\n15679760,Male,24,19000,0\\n15654574,Female,23,82000,0\\n15577178,Female,22,63000,0\\n15595324,Female,31,68000,0\\n15756932,Male,25,80000,0\\n15726358,Female,24,27000,0\\n15595228,Female,20,23000,0\\n15782530,Female,33,113000,0\\n15592877,Male,32,18000,0\\n15651983,Male,34,112000,1\\n15746737,Male,18,52000,0\\n15774179,Female,22,27000,0\\n15667265,Female,28,87000,0\\n15655123,Female,26,17000,0\\n15595917,Male,30,80000,0\\n15668385,Male,39,42000,0\\n15709476,Male,20,49000,0\\n15711218,Male,35,88000,0\\n15798659,Female,30,62000,0\\n15663939,Female,31,118000,1\\n15694946,Male,24,55000,0\\n15631912,Female,28,85000,0\\n15768816,Male,26,81000,0\\n15682268,Male,35,50000,0\\n15684801,Male,22,81000,0\\n15636428,Female,30,116000,0\\n15809823,Male,26,15000,0\\n15699284,Female,29,28000,0\\n15786993,Female,29,83000,0\\n15709441,Female,35,44000,0\\n15710257,Female,35,25000,0\\n15582492,Male,28,123000,1\\n15575694,Male,35,73000,0\\n15756820,Female,28,37000,0\\n15766289,Male,27,88000,0\\n15593014,Male,28,59000,0\\n15584545,Female,32,86000,0\\n15675949,Female,33,149000,1\\n15672091,Female,19,21000,0\\n15801658,Male,21,72000,0\\n15706185,Female,26,35000,0\\n15789863,Male,27,89000,0\\n15720943,Male,26,86000,0\\n15697997,Female,38,80000,0\\n15665416,Female,39,71000,0\\n15660200,Female,37,71000,0\\n15619653,Male,38,61000,0\\n15773447,Male,37,55000,0\\n15739160,Male,42,80000,0\\n15689237,Male,40,57000,0\\n15679297,Male,35,75000,0\\n15591433,Male,36,52000,0\\n15642725,Male,40,59000,0\\n15701962,Male,41,59000,0\\n15811613,Female,36,75000,0\\n15741049,Male,37,72000,0\\n15724423,Female,40,75000,0\\n15574305,Male,35,53000,0\\n15678168,Female,41,51000,0\\n15697020,Female,39,61000,0\\n15610801,Male,42,65000,0\\n15745232,Male,26,32000,0\\n15722758,Male,30,17000,0\\n15792102,Female,26,84000,0\\n15675185,Male,31,58000,0\\n15801247,Male,33,31000,0\\n15725660,Male,30,87000,0\\n15638963,Female,21,68000,0\\n15800061,Female,28,55000,0\\n15578006,Male,23,63000,0\\n15668504,Female,20,82000,0\\n15687491,Male,30,107000,1\\n15610403,Female,28,59000,0\\n15741094,Male,19,25000,0\\n15807909,Male,19,85000,0\\n15666141,Female,18,68000,0\\n15617134,Male,35,59000,0\\n15783029,Male,30,89000,0\\n15622833,Female,34,25000,0\\n15746422,Female,24,89000,0\\n15750839,Female,27,96000,1\\n15749130,Female,41,30000,0\\n15779862,Male,29,61000,0\\n15767871,Male,20,74000,0\\n15679651,Female,26,15000,0\\n15576219,Male,41,45000,0\\n15699247,Male,31,76000,0\\n15619087,Female,36,50000,0\\n15605327,Male,40,47000,0\\n15610140,Female,31,15000,0\\n15791174,Male,46,59000,0\\n15602373,Male,29,75000,0\\n15762605,Male,26,30000,0\\n15598840,Female,32,135000,1\\n15744279,Male,32,100000,1\\n15670619,Male,25,90000,0\\n15599533,Female,37,33000,0\\n15757837,Male,35,38000,0\\n15697574,Female,33,69000,0\\n15578738,Female,18,86000,0\\n15762228,Female,22,55000,0\\n15614827,Female,35,71000,0\\n15789815,Male,29,148000,1\\n15579781,Female,29,47000,0\\n15587013,Male,21,88000,0\\n15570932,Male,34,115000,0\\n15794661,Female,26,118000,0\\n15581654,Female,34,43000,0\\n15644296,Female,34,72000,0\\n15614420,Female,23,28000,0\\n15609653,Female,35,47000,0\\n15594577,Male,25,22000,0\\n15584114,Male,24,23000,0\\n15673367,Female,31,34000,0\\n15685576,Male,26,16000,0\\n15774727,Female,31,71000,0\\n15694288,Female,32,117000,1\\n15603319,Male,33,43000,0\\n15759066,Female,33,60000,0\\n15814816,Male,31,66000,0\\n15724402,Female,20,82000,0\\n15571059,Female,33,41000,0\\n15674206,Male,35,72000,0\\n15715160,Male,28,32000,0\\n15730448,Male,24,84000,0\\n15662067,Female,19,26000,0\\n15779581,Male,29,43000,0\\n15662901,Male,19,70000,0\\n15689751,Male,28,89000,0\\n15667742,Male,34,43000,0\\n15738448,Female,30,79000,0\\n15680243,Female,20,36000,0\\n15745083,Male,26,80000,0\\n15708228,Male,35,22000,0\\n15628523,Male,35,39000,0\\n15708196,Male,49,74000,0\\n15735549,Female,39,134000,1\\n15809347,Female,41,71000,0\\n15660866,Female,58,101000,1\\n15766609,Female,47,47000,0\\n15654230,Female,55,130000,1\\n15794566,Female,52,114000,0\\n15800890,Female,40,142000,1\\n15697424,Female,46,22000,0\\n15724536,Female,48,96000,1\\n15735878,Male,52,150000,1\\n15707596,Female,59,42000,0\\n15657163,Male,35,58000,0\\n15622478,Male,47,43000,0\\n15779529,Female,60,108000,1\\n15636023,Male,49,65000,0\\n15582066,Male,40,78000,0\\n15666675,Female,46,96000,0\\n15732987,Male,59,143000,1\\n15789432,Female,41,80000,0\\n15663161,Male,35,91000,1\\n15694879,Male,37,144000,1\\n15593715,Male,60,102000,1\\n15575002,Female,35,60000,0\\n15622171,Male,37,53000,0\\n15795224,Female,36,126000,1\\n15685346,Male,56,133000,1\\n15691808,Female,40,72000,0\\n15721007,Female,42,80000,1\\n15794253,Female,35,147000,1\\n15694453,Male,39,42000,0\\n15813113,Male,40,107000,1\\n15614187,Male,49,86000,1\\n15619407,Female,38,112000,0\\n15646227,Male,46,79000,1\\n15660541,Male,40,57000,0\\n15753874,Female,37,80000,0\\n15617877,Female,46,82000,0\\n15772073,Female,53,143000,1\\n15701537,Male,42,149000,1\\n15736228,Male,38,59000,0\\n15780572,Female,50,88000,1\\n15769596,Female,56,104000,1\\n15586996,Female,41,72000,0\\n15722061,Female,51,146000,1\\n15638003,Female,35,50000,0\\n15775590,Female,57,122000,1\\n15730688,Male,41,52000,0\\n15753102,Female,35,97000,1\\n15810075,Female,44,39000,0\\n15723373,Male,37,52000,0\\n15795298,Female,48,134000,1\\n15584320,Female,37,146000,1\\n15724161,Female,50,44000,0\\n15750056,Female,52,90000,1\\n15609637,Female,41,72000,0\\n15794493,Male,40,57000,0\\n15569641,Female,58,95000,1\\n15815236,Female,45,131000,1\\n15811177,Female,35,77000,0\\n15680587,Male,36,144000,1\\n15672821,Female,55,125000,1\\n15767681,Female,35,72000,0\\n15600379,Male,48,90000,1\\n15801336,Female,42,108000,1\\n15721592,Male,40,75000,0\\n15581282,Male,37,74000,0\\n15746203,Female,47,144000,1\\n15583137,Male,40,61000,0\\n15680752,Female,43,133000,0\\n15688172,Female,59,76000,1\\n15791373,Male,60,42000,1\\n15589449,Male,39,106000,1\\n15692819,Female,57,26000,1\\n15727467,Male,57,74000,1\\n15734312,Male,38,71000,0\\n15764604,Male,49,88000,1\\n15613014,Female,52,38000,1\\n15759684,Female,50,36000,1\\n15609669,Female,59,88000,1\\n15685536,Male,35,61000,0\\n15750447,Male,37,70000,1\\n15663249,Female,52,21000,1\\n15638646,Male,48,141000,0\\n15734161,Female,37,93000,1\\n15631070,Female,37,62000,0\\n15761950,Female,48,138000,1\\n15649668,Male,41,79000,0\\n15713912,Female,37,78000,1\\n15586757,Male,39,134000,1\\n15596522,Male,49,89000,1\\n15625395,Male,55,39000,1\\n15760570,Male,37,77000,0\\n15566689,Female,35,57000,0\\n15725794,Female,36,63000,0\\n15673539,Male,42,73000,1\\n15705298,Female,43,112000,1\\n15675791,Male,45,79000,0\\n15747043,Male,46,117000,1\\n15736397,Female,58,38000,1\\n15678201,Male,48,74000,1\\n15720745,Female,37,137000,1\\n15637593,Male,37,79000,1\\n15598070,Female,40,60000,0\\n15787550,Male,42,54000,0\\n15603942,Female,51,134000,0\\n15733973,Female,47,113000,1\\n15596761,Male,36,125000,1\\n15652400,Female,38,50000,0\\n15717893,Female,42,70000,0\\n15622585,Male,39,96000,1\\n15733964,Female,38,50000,0\\n15753861,Female,49,141000,1\\n15747097,Female,39,79000,0\\n15594762,Female,39,75000,1\\n15667417,Female,54,104000,1\\n15684861,Male,35,55000,0\\n15742204,Male,45,32000,1\\n15623502,Male,36,60000,0\\n15774872,Female,52,138000,1\\n15611191,Female,53,82000,1\\n15674331,Male,41,52000,0\\n15619465,Female,48,30000,1\\n15575247,Female,48,131000,1\\n15695679,Female,41,60000,0\\n15713463,Male,41,72000,0\\n15785170,Female,42,75000,0\\n15796351,Male,36,118000,1\\n15639576,Female,47,107000,1\\n15693264,Male,38,51000,0\\n15589715,Female,48,119000,1\\n15769902,Male,42,65000,0\\n15587177,Male,40,65000,0\\n15814553,Male,57,60000,1\\n15601550,Female,36,54000,0\\n15664907,Male,58,144000,1\\n15612465,Male,35,79000,0\\n15810800,Female,38,55000,0\\n15665760,Male,39,122000,1\\n15588080,Female,53,104000,1\\n15776844,Male,35,75000,0\\n15717560,Female,38,65000,0\\n15629739,Female,47,51000,1\\n15729908,Male,47,105000,1\\n15716781,Female,41,63000,0\\n15646936,Male,53,72000,1\\n15768151,Female,54,108000,1\\n15579212,Male,39,77000,0\\n15721835,Male,38,61000,0\\n15800515,Female,38,113000,1\\n15591279,Male,37,75000,0\\n15587419,Female,42,90000,1\\n15750335,Female,37,57000,0\\n15699619,Male,36,99000,1\\n15606472,Male,60,34000,1\\n15778368,Male,54,70000,1\\n15671387,Female,41,72000,0\\n15573926,Male,40,71000,1\\n15709183,Male,42,54000,0\\n15577514,Male,43,129000,1\\n15778830,Female,53,34000,1\\n15768072,Female,47,50000,1\\n15768293,Female,42,79000,0\\n15654456,Male,42,104000,1\\n15807525,Female,59,29000,1\\n15574372,Female,58,47000,1\\n15671249,Male,46,88000,1\\n15779744,Male,38,71000,0\\n15624755,Female,54,26000,1\\n15611430,Female,60,46000,1\\n15774744,Male,60,83000,1\\n15629885,Female,39,73000,0\\n15708791,Male,59,130000,1\\n15793890,Female,37,80000,0\\n15646091,Female,46,32000,1\\n15596984,Female,46,74000,0\\n15800215,Female,42,53000,0\\n15577806,Male,41,87000,1\\n15749381,Female,58,23000,1\\n15683758,Male,42,64000,0\\n15670615,Male,48,33000,1\\n15715622,Female,44,139000,1\\n15707634,Male,49,28000,1\\n15806901,Female,57,33000,1\\n15775335,Male,56,60000,1\\n15724150,Female,49,39000,1\\n15627220,Male,39,71000,0\\n15672330,Male,47,34000,1\\n15668521,Female,48,35000,1\\n15807837,Male,48,33000,1\\n15592570,Male,47,23000,1\\n15748589,Female,45,45000,1\\n15635893,Male,60,42000,1\\n15757632,Female,39,59000,0\\n15691863,Female,46,41000,1\\n15706071,Male,51,23000,1\\n15654296,Female,50,20000,1\\n15755018,Male,36,33000,0\\n15594041,Female,49,36000,1\\n'}\n"
          ]
        }
      ]
    },
    {
      "cell_type": "code",
      "source": [
        "df = pd.read_csv('/content/suv_data.csv')  #reading dataset"
      ],
      "metadata": {
        "id": "xRZG1Yf2Sz3_"
      },
      "execution_count": 5,
      "outputs": []
    },
    {
      "cell_type": "code",
      "source": [
        "df"
      ],
      "metadata": {
        "colab": {
          "base_uri": "https://localhost:8080/",
          "height": 423
        },
        "id": "vu8iD1xVSz6j",
        "outputId": "b7ec57ae-a56e-4e39-b050-6f06434ea231"
      },
      "execution_count": 6,
      "outputs": [
        {
          "output_type": "execute_result",
          "data": {
            "text/plain": [
              "      User ID  Gender  Age  EstimatedSalary  Purchased\n",
              "0    15624510    Male   19            19000          0\n",
              "1    15810944    Male   35            20000          0\n",
              "2    15668575  Female   26            43000          0\n",
              "3    15603246  Female   27            57000          0\n",
              "4    15804002    Male   19            76000          0\n",
              "..        ...     ...  ...              ...        ...\n",
              "395  15691863  Female   46            41000          1\n",
              "396  15706071    Male   51            23000          1\n",
              "397  15654296  Female   50            20000          1\n",
              "398  15755018    Male   36            33000          0\n",
              "399  15594041  Female   49            36000          1\n",
              "\n",
              "[400 rows x 5 columns]"
            ],
            "text/html": [
              "\n",
              "  <div id=\"df-ecfd47f1-77ab-4688-8226-a6694ebc7675\" class=\"colab-df-container\">\n",
              "    <div>\n",
              "<style scoped>\n",
              "    .dataframe tbody tr th:only-of-type {\n",
              "        vertical-align: middle;\n",
              "    }\n",
              "\n",
              "    .dataframe tbody tr th {\n",
              "        vertical-align: top;\n",
              "    }\n",
              "\n",
              "    .dataframe thead th {\n",
              "        text-align: right;\n",
              "    }\n",
              "</style>\n",
              "<table border=\"1\" class=\"dataframe\">\n",
              "  <thead>\n",
              "    <tr style=\"text-align: right;\">\n",
              "      <th></th>\n",
              "      <th>User ID</th>\n",
              "      <th>Gender</th>\n",
              "      <th>Age</th>\n",
              "      <th>EstimatedSalary</th>\n",
              "      <th>Purchased</th>\n",
              "    </tr>\n",
              "  </thead>\n",
              "  <tbody>\n",
              "    <tr>\n",
              "      <th>0</th>\n",
              "      <td>15624510</td>\n",
              "      <td>Male</td>\n",
              "      <td>19</td>\n",
              "      <td>19000</td>\n",
              "      <td>0</td>\n",
              "    </tr>\n",
              "    <tr>\n",
              "      <th>1</th>\n",
              "      <td>15810944</td>\n",
              "      <td>Male</td>\n",
              "      <td>35</td>\n",
              "      <td>20000</td>\n",
              "      <td>0</td>\n",
              "    </tr>\n",
              "    <tr>\n",
              "      <th>2</th>\n",
              "      <td>15668575</td>\n",
              "      <td>Female</td>\n",
              "      <td>26</td>\n",
              "      <td>43000</td>\n",
              "      <td>0</td>\n",
              "    </tr>\n",
              "    <tr>\n",
              "      <th>3</th>\n",
              "      <td>15603246</td>\n",
              "      <td>Female</td>\n",
              "      <td>27</td>\n",
              "      <td>57000</td>\n",
              "      <td>0</td>\n",
              "    </tr>\n",
              "    <tr>\n",
              "      <th>4</th>\n",
              "      <td>15804002</td>\n",
              "      <td>Male</td>\n",
              "      <td>19</td>\n",
              "      <td>76000</td>\n",
              "      <td>0</td>\n",
              "    </tr>\n",
              "    <tr>\n",
              "      <th>...</th>\n",
              "      <td>...</td>\n",
              "      <td>...</td>\n",
              "      <td>...</td>\n",
              "      <td>...</td>\n",
              "      <td>...</td>\n",
              "    </tr>\n",
              "    <tr>\n",
              "      <th>395</th>\n",
              "      <td>15691863</td>\n",
              "      <td>Female</td>\n",
              "      <td>46</td>\n",
              "      <td>41000</td>\n",
              "      <td>1</td>\n",
              "    </tr>\n",
              "    <tr>\n",
              "      <th>396</th>\n",
              "      <td>15706071</td>\n",
              "      <td>Male</td>\n",
              "      <td>51</td>\n",
              "      <td>23000</td>\n",
              "      <td>1</td>\n",
              "    </tr>\n",
              "    <tr>\n",
              "      <th>397</th>\n",
              "      <td>15654296</td>\n",
              "      <td>Female</td>\n",
              "      <td>50</td>\n",
              "      <td>20000</td>\n",
              "      <td>1</td>\n",
              "    </tr>\n",
              "    <tr>\n",
              "      <th>398</th>\n",
              "      <td>15755018</td>\n",
              "      <td>Male</td>\n",
              "      <td>36</td>\n",
              "      <td>33000</td>\n",
              "      <td>0</td>\n",
              "    </tr>\n",
              "    <tr>\n",
              "      <th>399</th>\n",
              "      <td>15594041</td>\n",
              "      <td>Female</td>\n",
              "      <td>49</td>\n",
              "      <td>36000</td>\n",
              "      <td>1</td>\n",
              "    </tr>\n",
              "  </tbody>\n",
              "</table>\n",
              "<p>400 rows × 5 columns</p>\n",
              "</div>\n",
              "    <div class=\"colab-df-buttons\">\n",
              "\n",
              "  <div class=\"colab-df-container\">\n",
              "    <button class=\"colab-df-convert\" onclick=\"convertToInteractive('df-ecfd47f1-77ab-4688-8226-a6694ebc7675')\"\n",
              "            title=\"Convert this dataframe to an interactive table.\"\n",
              "            style=\"display:none;\">\n",
              "\n",
              "  <svg xmlns=\"http://www.w3.org/2000/svg\" height=\"24px\" viewBox=\"0 -960 960 960\">\n",
              "    <path d=\"M120-120v-720h720v720H120Zm60-500h600v-160H180v160Zm220 220h160v-160H400v160Zm0 220h160v-160H400v160ZM180-400h160v-160H180v160Zm440 0h160v-160H620v160ZM180-180h160v-160H180v160Zm440 0h160v-160H620v160Z\"/>\n",
              "  </svg>\n",
              "    </button>\n",
              "\n",
              "  <style>\n",
              "    .colab-df-container {\n",
              "      display:flex;\n",
              "      gap: 12px;\n",
              "    }\n",
              "\n",
              "    .colab-df-convert {\n",
              "      background-color: #E8F0FE;\n",
              "      border: none;\n",
              "      border-radius: 50%;\n",
              "      cursor: pointer;\n",
              "      display: none;\n",
              "      fill: #1967D2;\n",
              "      height: 32px;\n",
              "      padding: 0 0 0 0;\n",
              "      width: 32px;\n",
              "    }\n",
              "\n",
              "    .colab-df-convert:hover {\n",
              "      background-color: #E2EBFA;\n",
              "      box-shadow: 0px 1px 2px rgba(60, 64, 67, 0.3), 0px 1px 3px 1px rgba(60, 64, 67, 0.15);\n",
              "      fill: #174EA6;\n",
              "    }\n",
              "\n",
              "    .colab-df-buttons div {\n",
              "      margin-bottom: 4px;\n",
              "    }\n",
              "\n",
              "    [theme=dark] .colab-df-convert {\n",
              "      background-color: #3B4455;\n",
              "      fill: #D2E3FC;\n",
              "    }\n",
              "\n",
              "    [theme=dark] .colab-df-convert:hover {\n",
              "      background-color: #434B5C;\n",
              "      box-shadow: 0px 1px 3px 1px rgba(0, 0, 0, 0.15);\n",
              "      filter: drop-shadow(0px 1px 2px rgba(0, 0, 0, 0.3));\n",
              "      fill: #FFFFFF;\n",
              "    }\n",
              "  </style>\n",
              "\n",
              "    <script>\n",
              "      const buttonEl =\n",
              "        document.querySelector('#df-ecfd47f1-77ab-4688-8226-a6694ebc7675 button.colab-df-convert');\n",
              "      buttonEl.style.display =\n",
              "        google.colab.kernel.accessAllowed ? 'block' : 'none';\n",
              "\n",
              "      async function convertToInteractive(key) {\n",
              "        const element = document.querySelector('#df-ecfd47f1-77ab-4688-8226-a6694ebc7675');\n",
              "        const dataTable =\n",
              "          await google.colab.kernel.invokeFunction('convertToInteractive',\n",
              "                                                    [key], {});\n",
              "        if (!dataTable) return;\n",
              "\n",
              "        const docLinkHtml = 'Like what you see? Visit the ' +\n",
              "          '<a target=\"_blank\" href=https://colab.research.google.com/notebooks/data_table.ipynb>data table notebook</a>'\n",
              "          + ' to learn more about interactive tables.';\n",
              "        element.innerHTML = '';\n",
              "        dataTable['output_type'] = 'display_data';\n",
              "        await google.colab.output.renderOutput(dataTable, element);\n",
              "        const docLink = document.createElement('div');\n",
              "        docLink.innerHTML = docLinkHtml;\n",
              "        element.appendChild(docLink);\n",
              "      }\n",
              "    </script>\n",
              "  </div>\n",
              "\n",
              "\n",
              "<div id=\"df-89600bc1-96c2-4290-a918-79d78cc3a370\">\n",
              "  <button class=\"colab-df-quickchart\" onclick=\"quickchart('df-89600bc1-96c2-4290-a918-79d78cc3a370')\"\n",
              "            title=\"Suggest charts\"\n",
              "            style=\"display:none;\">\n",
              "\n",
              "<svg xmlns=\"http://www.w3.org/2000/svg\" height=\"24px\"viewBox=\"0 0 24 24\"\n",
              "     width=\"24px\">\n",
              "    <g>\n",
              "        <path d=\"M19 3H5c-1.1 0-2 .9-2 2v14c0 1.1.9 2 2 2h14c1.1 0 2-.9 2-2V5c0-1.1-.9-2-2-2zM9 17H7v-7h2v7zm4 0h-2V7h2v10zm4 0h-2v-4h2v4z\"/>\n",
              "    </g>\n",
              "</svg>\n",
              "  </button>\n",
              "\n",
              "<style>\n",
              "  .colab-df-quickchart {\n",
              "      --bg-color: #E8F0FE;\n",
              "      --fill-color: #1967D2;\n",
              "      --hover-bg-color: #E2EBFA;\n",
              "      --hover-fill-color: #174EA6;\n",
              "      --disabled-fill-color: #AAA;\n",
              "      --disabled-bg-color: #DDD;\n",
              "  }\n",
              "\n",
              "  [theme=dark] .colab-df-quickchart {\n",
              "      --bg-color: #3B4455;\n",
              "      --fill-color: #D2E3FC;\n",
              "      --hover-bg-color: #434B5C;\n",
              "      --hover-fill-color: #FFFFFF;\n",
              "      --disabled-bg-color: #3B4455;\n",
              "      --disabled-fill-color: #666;\n",
              "  }\n",
              "\n",
              "  .colab-df-quickchart {\n",
              "    background-color: var(--bg-color);\n",
              "    border: none;\n",
              "    border-radius: 50%;\n",
              "    cursor: pointer;\n",
              "    display: none;\n",
              "    fill: var(--fill-color);\n",
              "    height: 32px;\n",
              "    padding: 0;\n",
              "    width: 32px;\n",
              "  }\n",
              "\n",
              "  .colab-df-quickchart:hover {\n",
              "    background-color: var(--hover-bg-color);\n",
              "    box-shadow: 0 1px 2px rgba(60, 64, 67, 0.3), 0 1px 3px 1px rgba(60, 64, 67, 0.15);\n",
              "    fill: var(--button-hover-fill-color);\n",
              "  }\n",
              "\n",
              "  .colab-df-quickchart-complete:disabled,\n",
              "  .colab-df-quickchart-complete:disabled:hover {\n",
              "    background-color: var(--disabled-bg-color);\n",
              "    fill: var(--disabled-fill-color);\n",
              "    box-shadow: none;\n",
              "  }\n",
              "\n",
              "  .colab-df-spinner {\n",
              "    border: 2px solid var(--fill-color);\n",
              "    border-color: transparent;\n",
              "    border-bottom-color: var(--fill-color);\n",
              "    animation:\n",
              "      spin 1s steps(1) infinite;\n",
              "  }\n",
              "\n",
              "  @keyframes spin {\n",
              "    0% {\n",
              "      border-color: transparent;\n",
              "      border-bottom-color: var(--fill-color);\n",
              "      border-left-color: var(--fill-color);\n",
              "    }\n",
              "    20% {\n",
              "      border-color: transparent;\n",
              "      border-left-color: var(--fill-color);\n",
              "      border-top-color: var(--fill-color);\n",
              "    }\n",
              "    30% {\n",
              "      border-color: transparent;\n",
              "      border-left-color: var(--fill-color);\n",
              "      border-top-color: var(--fill-color);\n",
              "      border-right-color: var(--fill-color);\n",
              "    }\n",
              "    40% {\n",
              "      border-color: transparent;\n",
              "      border-right-color: var(--fill-color);\n",
              "      border-top-color: var(--fill-color);\n",
              "    }\n",
              "    60% {\n",
              "      border-color: transparent;\n",
              "      border-right-color: var(--fill-color);\n",
              "    }\n",
              "    80% {\n",
              "      border-color: transparent;\n",
              "      border-right-color: var(--fill-color);\n",
              "      border-bottom-color: var(--fill-color);\n",
              "    }\n",
              "    90% {\n",
              "      border-color: transparent;\n",
              "      border-bottom-color: var(--fill-color);\n",
              "    }\n",
              "  }\n",
              "</style>\n",
              "\n",
              "  <script>\n",
              "    async function quickchart(key) {\n",
              "      const quickchartButtonEl =\n",
              "        document.querySelector('#' + key + ' button');\n",
              "      quickchartButtonEl.disabled = true;  // To prevent multiple clicks.\n",
              "      quickchartButtonEl.classList.add('colab-df-spinner');\n",
              "      try {\n",
              "        const charts = await google.colab.kernel.invokeFunction(\n",
              "            'suggestCharts', [key], {});\n",
              "      } catch (error) {\n",
              "        console.error('Error during call to suggestCharts:', error);\n",
              "      }\n",
              "      quickchartButtonEl.classList.remove('colab-df-spinner');\n",
              "      quickchartButtonEl.classList.add('colab-df-quickchart-complete');\n",
              "    }\n",
              "    (() => {\n",
              "      let quickchartButtonEl =\n",
              "        document.querySelector('#df-89600bc1-96c2-4290-a918-79d78cc3a370 button');\n",
              "      quickchartButtonEl.style.display =\n",
              "        google.colab.kernel.accessAllowed ? 'block' : 'none';\n",
              "    })();\n",
              "  </script>\n",
              "</div>\n",
              "\n",
              "  <div id=\"id_bc1cb5ee-9b36-429e-a9a0-50a8c8cbde00\">\n",
              "    <style>\n",
              "      .colab-df-generate {\n",
              "        background-color: #E8F0FE;\n",
              "        border: none;\n",
              "        border-radius: 50%;\n",
              "        cursor: pointer;\n",
              "        display: none;\n",
              "        fill: #1967D2;\n",
              "        height: 32px;\n",
              "        padding: 0 0 0 0;\n",
              "        width: 32px;\n",
              "      }\n",
              "\n",
              "      .colab-df-generate:hover {\n",
              "        background-color: #E2EBFA;\n",
              "        box-shadow: 0px 1px 2px rgba(60, 64, 67, 0.3), 0px 1px 3px 1px rgba(60, 64, 67, 0.15);\n",
              "        fill: #174EA6;\n",
              "      }\n",
              "\n",
              "      [theme=dark] .colab-df-generate {\n",
              "        background-color: #3B4455;\n",
              "        fill: #D2E3FC;\n",
              "      }\n",
              "\n",
              "      [theme=dark] .colab-df-generate:hover {\n",
              "        background-color: #434B5C;\n",
              "        box-shadow: 0px 1px 3px 1px rgba(0, 0, 0, 0.15);\n",
              "        filter: drop-shadow(0px 1px 2px rgba(0, 0, 0, 0.3));\n",
              "        fill: #FFFFFF;\n",
              "      }\n",
              "    </style>\n",
              "    <button class=\"colab-df-generate\" onclick=\"generateWithVariable('df')\"\n",
              "            title=\"Generate code using this dataframe.\"\n",
              "            style=\"display:none;\">\n",
              "\n",
              "  <svg xmlns=\"http://www.w3.org/2000/svg\" height=\"24px\"viewBox=\"0 0 24 24\"\n",
              "       width=\"24px\">\n",
              "    <path d=\"M7,19H8.4L18.45,9,17,7.55,7,17.6ZM5,21V16.75L18.45,3.32a2,2,0,0,1,2.83,0l1.4,1.43a1.91,1.91,0,0,1,.58,1.4,1.91,1.91,0,0,1-.58,1.4L9.25,21ZM18.45,9,17,7.55Zm-12,3A5.31,5.31,0,0,0,4.9,8.1,5.31,5.31,0,0,0,1,6.5,5.31,5.31,0,0,0,4.9,4.9,5.31,5.31,0,0,0,6.5,1,5.31,5.31,0,0,0,8.1,4.9,5.31,5.31,0,0,0,12,6.5,5.46,5.46,0,0,0,6.5,12Z\"/>\n",
              "  </svg>\n",
              "    </button>\n",
              "    <script>\n",
              "      (() => {\n",
              "      const buttonEl =\n",
              "        document.querySelector('#id_bc1cb5ee-9b36-429e-a9a0-50a8c8cbde00 button.colab-df-generate');\n",
              "      buttonEl.style.display =\n",
              "        google.colab.kernel.accessAllowed ? 'block' : 'none';\n",
              "\n",
              "      buttonEl.onclick = () => {\n",
              "        google.colab.notebook.generateWithVariable('df');\n",
              "      }\n",
              "      })();\n",
              "    </script>\n",
              "  </div>\n",
              "\n",
              "    </div>\n",
              "  </div>\n"
            ],
            "application/vnd.google.colaboratory.intrinsic+json": {
              "type": "dataframe",
              "variable_name": "df",
              "summary": "{\n  \"name\": \"df\",\n  \"rows\": 400,\n  \"fields\": [\n    {\n      \"column\": \"User ID\",\n      \"properties\": {\n        \"dtype\": \"number\",\n        \"std\": 71658,\n        \"min\": 15566689,\n        \"max\": 15815236,\n        \"num_unique_values\": 400,\n        \"samples\": [\n          15697424,\n          15609669,\n          15776733\n        ],\n        \"semantic_type\": \"\",\n        \"description\": \"\"\n      }\n    },\n    {\n      \"column\": \"Gender\",\n      \"properties\": {\n        \"dtype\": \"category\",\n        \"num_unique_values\": 2,\n        \"samples\": [\n          \"Female\",\n          \"Male\"\n        ],\n        \"semantic_type\": \"\",\n        \"description\": \"\"\n      }\n    },\n    {\n      \"column\": \"Age\",\n      \"properties\": {\n        \"dtype\": \"number\",\n        \"std\": 10,\n        \"min\": 18,\n        \"max\": 60,\n        \"num_unique_values\": 43,\n        \"samples\": [\n          50,\n          39\n        ],\n        \"semantic_type\": \"\",\n        \"description\": \"\"\n      }\n    },\n    {\n      \"column\": \"EstimatedSalary\",\n      \"properties\": {\n        \"dtype\": \"number\",\n        \"std\": 34096,\n        \"min\": 15000,\n        \"max\": 150000,\n        \"num_unique_values\": 117,\n        \"samples\": [\n          117000,\n          76000\n        ],\n        \"semantic_type\": \"\",\n        \"description\": \"\"\n      }\n    },\n    {\n      \"column\": \"Purchased\",\n      \"properties\": {\n        \"dtype\": \"number\",\n        \"std\": 0,\n        \"min\": 0,\n        \"max\": 1,\n        \"num_unique_values\": 2,\n        \"samples\": [\n          1,\n          0\n        ],\n        \"semantic_type\": \"\",\n        \"description\": \"\"\n      }\n    }\n  ]\n}"
            }
          },
          "metadata": {},
          "execution_count": 6
        }
      ]
    },
    {
      "cell_type": "code",
      "source": [
        "#Extracting Independent and dependent Variable\n",
        "x= df.iloc[:, [2,3]].values\n",
        "y= df.iloc[:, 4].values"
      ],
      "metadata": {
        "id": "Fb6MLZodSz-W"
      },
      "execution_count": 7,
      "outputs": []
    },
    {
      "cell_type": "code",
      "source": [
        "y"
      ],
      "metadata": {
        "colab": {
          "base_uri": "https://localhost:8080/"
        },
        "id": "hkPiDdKWTVvj",
        "outputId": "ebf30b92-55ea-4a58-af7a-0eb5d6239846"
      },
      "execution_count": 8,
      "outputs": [
        {
          "output_type": "execute_result",
          "data": {
            "text/plain": [
              "array([0, 0, 0, 0, 0, 0, 0, 1, 0, 0, 0, 0, 0, 0, 0, 0, 1, 1, 1, 1, 1, 1,\n",
              "       1, 1, 1, 1, 1, 1, 0, 0, 0, 1, 0, 0, 0, 0, 0, 0, 0, 0, 0, 0, 0, 0,\n",
              "       0, 0, 0, 0, 1, 0, 0, 0, 0, 0, 0, 0, 0, 0, 0, 0, 0, 0, 0, 1, 0, 0,\n",
              "       0, 0, 0, 0, 0, 0, 0, 0, 0, 1, 0, 0, 0, 0, 0, 0, 0, 0, 0, 1, 0, 0,\n",
              "       0, 0, 0, 0, 0, 0, 0, 0, 0, 1, 0, 0, 0, 0, 0, 1, 0, 0, 0, 0, 0, 0,\n",
              "       0, 0, 0, 0, 0, 0, 0, 0, 0, 0, 0, 0, 0, 0, 0, 0, 0, 0, 0, 0, 0, 0,\n",
              "       0, 0, 0, 0, 0, 1, 0, 0, 0, 0, 0, 0, 0, 0, 1, 0, 0, 0, 0, 0, 0, 0,\n",
              "       0, 0, 0, 0, 0, 1, 1, 0, 0, 0, 0, 0, 0, 0, 1, 0, 0, 0, 0, 0, 0, 0,\n",
              "       0, 0, 0, 0, 0, 0, 1, 0, 0, 0, 0, 0, 0, 0, 0, 0, 0, 0, 0, 0, 0, 0,\n",
              "       0, 0, 0, 0, 1, 0, 1, 0, 1, 0, 1, 0, 1, 1, 0, 0, 0, 1, 0, 0, 0, 1,\n",
              "       0, 1, 1, 1, 0, 0, 1, 1, 0, 1, 1, 0, 1, 1, 0, 1, 0, 0, 0, 1, 1, 0,\n",
              "       1, 1, 0, 1, 0, 1, 0, 1, 0, 0, 1, 1, 0, 1, 0, 0, 1, 1, 0, 1, 1, 0,\n",
              "       1, 1, 0, 0, 1, 0, 0, 1, 1, 1, 1, 1, 0, 1, 1, 1, 1, 0, 1, 1, 0, 1,\n",
              "       0, 1, 0, 1, 1, 1, 1, 0, 0, 0, 1, 1, 0, 1, 1, 1, 1, 1, 0, 0, 0, 1,\n",
              "       1, 0, 0, 1, 0, 1, 0, 1, 1, 0, 1, 0, 1, 1, 0, 1, 1, 0, 0, 0, 1, 1,\n",
              "       0, 1, 0, 0, 1, 0, 1, 0, 0, 1, 1, 0, 0, 1, 1, 0, 1, 1, 0, 0, 1, 0,\n",
              "       1, 0, 1, 1, 1, 0, 1, 0, 1, 1, 1, 0, 1, 1, 1, 1, 0, 1, 1, 1, 0, 1,\n",
              "       0, 1, 0, 0, 1, 1, 0, 1, 1, 1, 1, 1, 1, 0, 1, 1, 1, 1, 1, 1, 0, 1,\n",
              "       1, 1, 0, 1])"
            ]
          },
          "metadata": {},
          "execution_count": 8
        }
      ]
    },
    {
      "cell_type": "code",
      "source": [
        "# Splitting the dataset into training and test set.\n",
        "from sklearn.model_selection import train_test_split\n",
        "x_train, x_test, y_train, y_test= train_test_split(x, y, test_size= 0.25, random_state=0)\n",
        "\n",
        "#imports a function called train_test_split from the sklearn.model_selection module. This function is used to split datasets into two subsets:\n",
        "# one for training a model and the other for testing its performance.\n",
        "\n",
        "#x :independent and\n",
        "# y: dependent variables\n",
        "#25% of the data will be used for testing, while the remaining 75% will be used for training.\n",
        "# random_state=0 : ensure that every time you run this code, the data is split in the same way"
      ],
      "metadata": {
        "id": "nntTAxQHTVyW"
      },
      "execution_count": 9,
      "outputs": []
    },
    {
      "cell_type": "code",
      "source": [
        "print(x_train.shape)"
      ],
      "metadata": {
        "colab": {
          "base_uri": "https://localhost:8080/"
        },
        "id": "dF0gjw1uTV09",
        "outputId": "56a0e507-6ede-400b-cdf7-e24682e679a6"
      },
      "execution_count": 10,
      "outputs": [
        {
          "output_type": "stream",
          "name": "stdout",
          "text": [
            "(300, 2)\n"
          ]
        }
      ]
    },
    {
      "cell_type": "code",
      "source": [
        "print(x_test.shape)"
      ],
      "metadata": {
        "colab": {
          "base_uri": "https://localhost:8080/"
        },
        "id": "g1EatApRTV3q",
        "outputId": "5f6b1b78-013f-4cf9-bab5-07f35939439b"
      },
      "execution_count": 11,
      "outputs": [
        {
          "output_type": "stream",
          "name": "stdout",
          "text": [
            "(100, 2)\n"
          ]
        }
      ]
    },
    {
      "cell_type": "code",
      "source": [],
      "metadata": {
        "id": "tB92WUfSTmeC"
      },
      "execution_count": null,
      "outputs": []
    },
    {
      "cell_type": "code",
      "source": [
        "print(y_train.shape)"
      ],
      "metadata": {
        "colab": {
          "base_uri": "https://localhost:8080/"
        },
        "id": "z9-lNRLCTmgr",
        "outputId": "40fc8e54-9e90-45eb-9ea1-505897c5d021"
      },
      "execution_count": 12,
      "outputs": [
        {
          "output_type": "stream",
          "name": "stdout",
          "text": [
            "(300,)\n"
          ]
        }
      ]
    },
    {
      "cell_type": "code",
      "source": [
        "print(y_test.shape)"
      ],
      "metadata": {
        "colab": {
          "base_uri": "https://localhost:8080/"
        },
        "id": "zdEm0S28TmkU",
        "outputId": "80c5de56-571a-4430-e1cd-5475afa89e09"
      },
      "execution_count": 13,
      "outputs": [
        {
          "output_type": "stream",
          "name": "stdout",
          "text": [
            "(100,)\n"
          ]
        }
      ]
    },
    {
      "cell_type": "code",
      "source": [
        "from sklearn.preprocessing import StandardScaler\n",
        "st_x= StandardScaler() # normalize or bring value in one range , creates an instance of the StandardScaler class. This object st_x will be used to scale your data.\n",
        "x_train= st_x.fit_transform(x_train)\n",
        "x_test= st_x.transform(x_test)"
      ],
      "metadata": {
        "id": "YwDLddS8T0Do"
      },
      "execution_count": 14,
      "outputs": []
    },
    {
      "cell_type": "code",
      "source": [
        "#Creating a logistic regression model\n",
        "from sklearn.linear_model import LogisticRegression\n",
        "classifier= LogisticRegression(random_state=0) #creates an instance of the Logistic Regression classifier.\n",
        "classifier.fit(x_train, y_train) #fit method is a fundamental function used to train a model on a dataset"
      ],
      "metadata": {
        "colab": {
          "base_uri": "https://localhost:8080/",
          "height": 74
        },
        "id": "cziTFuNNT0F_",
        "outputId": "0b2f40e5-4dae-4560-caa7-b8231dbe0334"
      },
      "execution_count": 15,
      "outputs": [
        {
          "output_type": "execute_result",
          "data": {
            "text/plain": [
              "LogisticRegression(random_state=0)"
            ],
            "text/html": [
              "<style>#sk-container-id-1 {color: black;background-color: white;}#sk-container-id-1 pre{padding: 0;}#sk-container-id-1 div.sk-toggleable {background-color: white;}#sk-container-id-1 label.sk-toggleable__label {cursor: pointer;display: block;width: 100%;margin-bottom: 0;padding: 0.3em;box-sizing: border-box;text-align: center;}#sk-container-id-1 label.sk-toggleable__label-arrow:before {content: \"▸\";float: left;margin-right: 0.25em;color: #696969;}#sk-container-id-1 label.sk-toggleable__label-arrow:hover:before {color: black;}#sk-container-id-1 div.sk-estimator:hover label.sk-toggleable__label-arrow:before {color: black;}#sk-container-id-1 div.sk-toggleable__content {max-height: 0;max-width: 0;overflow: hidden;text-align: left;background-color: #f0f8ff;}#sk-container-id-1 div.sk-toggleable__content pre {margin: 0.2em;color: black;border-radius: 0.25em;background-color: #f0f8ff;}#sk-container-id-1 input.sk-toggleable__control:checked~div.sk-toggleable__content {max-height: 200px;max-width: 100%;overflow: auto;}#sk-container-id-1 input.sk-toggleable__control:checked~label.sk-toggleable__label-arrow:before {content: \"▾\";}#sk-container-id-1 div.sk-estimator input.sk-toggleable__control:checked~label.sk-toggleable__label {background-color: #d4ebff;}#sk-container-id-1 div.sk-label input.sk-toggleable__control:checked~label.sk-toggleable__label {background-color: #d4ebff;}#sk-container-id-1 input.sk-hidden--visually {border: 0;clip: rect(1px 1px 1px 1px);clip: rect(1px, 1px, 1px, 1px);height: 1px;margin: -1px;overflow: hidden;padding: 0;position: absolute;width: 1px;}#sk-container-id-1 div.sk-estimator {font-family: monospace;background-color: #f0f8ff;border: 1px dotted black;border-radius: 0.25em;box-sizing: border-box;margin-bottom: 0.5em;}#sk-container-id-1 div.sk-estimator:hover {background-color: #d4ebff;}#sk-container-id-1 div.sk-parallel-item::after {content: \"\";width: 100%;border-bottom: 1px solid gray;flex-grow: 1;}#sk-container-id-1 div.sk-label:hover label.sk-toggleable__label {background-color: #d4ebff;}#sk-container-id-1 div.sk-serial::before {content: \"\";position: absolute;border-left: 1px solid gray;box-sizing: border-box;top: 0;bottom: 0;left: 50%;z-index: 0;}#sk-container-id-1 div.sk-serial {display: flex;flex-direction: column;align-items: center;background-color: white;padding-right: 0.2em;padding-left: 0.2em;position: relative;}#sk-container-id-1 div.sk-item {position: relative;z-index: 1;}#sk-container-id-1 div.sk-parallel {display: flex;align-items: stretch;justify-content: center;background-color: white;position: relative;}#sk-container-id-1 div.sk-item::before, #sk-container-id-1 div.sk-parallel-item::before {content: \"\";position: absolute;border-left: 1px solid gray;box-sizing: border-box;top: 0;bottom: 0;left: 50%;z-index: -1;}#sk-container-id-1 div.sk-parallel-item {display: flex;flex-direction: column;z-index: 1;position: relative;background-color: white;}#sk-container-id-1 div.sk-parallel-item:first-child::after {align-self: flex-end;width: 50%;}#sk-container-id-1 div.sk-parallel-item:last-child::after {align-self: flex-start;width: 50%;}#sk-container-id-1 div.sk-parallel-item:only-child::after {width: 0;}#sk-container-id-1 div.sk-dashed-wrapped {border: 1px dashed gray;margin: 0 0.4em 0.5em 0.4em;box-sizing: border-box;padding-bottom: 0.4em;background-color: white;}#sk-container-id-1 div.sk-label label {font-family: monospace;font-weight: bold;display: inline-block;line-height: 1.2em;}#sk-container-id-1 div.sk-label-container {text-align: center;}#sk-container-id-1 div.sk-container {/* jupyter's `normalize.less` sets `[hidden] { display: none; }` but bootstrap.min.css set `[hidden] { display: none !important; }` so we also need the `!important` here to be able to override the default hidden behavior on the sphinx rendered scikit-learn.org. See: https://github.com/scikit-learn/scikit-learn/issues/21755 */display: inline-block !important;position: relative;}#sk-container-id-1 div.sk-text-repr-fallback {display: none;}</style><div id=\"sk-container-id-1\" class=\"sk-top-container\"><div class=\"sk-text-repr-fallback\"><pre>LogisticRegression(random_state=0)</pre><b>In a Jupyter environment, please rerun this cell to show the HTML representation or trust the notebook. <br />On GitHub, the HTML representation is unable to render, please try loading this page with nbviewer.org.</b></div><div class=\"sk-container\" hidden><div class=\"sk-item\"><div class=\"sk-estimator sk-toggleable\"><input class=\"sk-toggleable__control sk-hidden--visually\" id=\"sk-estimator-id-1\" type=\"checkbox\" checked><label for=\"sk-estimator-id-1\" class=\"sk-toggleable__label sk-toggleable__label-arrow\">LogisticRegression</label><div class=\"sk-toggleable__content\"><pre>LogisticRegression(random_state=0)</pre></div></div></div></div></div>"
            ]
          },
          "metadata": {},
          "execution_count": 15
        }
      ]
    },
    {
      "cell_type": "code",
      "source": [
        "#Predicting the test set result\n",
        "y_pred= classifier.predict(x_test)"
      ],
      "metadata": {
        "id": "EyOtIHK-T0IQ"
      },
      "execution_count": 16,
      "outputs": []
    },
    {
      "cell_type": "code",
      "source": [
        "y_pred # prediction done algo"
      ],
      "metadata": {
        "colab": {
          "base_uri": "https://localhost:8080/"
        },
        "id": "kprL46lhT0Lr",
        "outputId": "3f312c42-f298-4e05-ef3a-8400a0b5c3c6"
      },
      "execution_count": 17,
      "outputs": [
        {
          "output_type": "execute_result",
          "data": {
            "text/plain": [
              "array([0, 0, 0, 0, 0, 0, 0, 1, 0, 1, 0, 0, 0, 0, 0, 0, 0, 0, 1, 0, 0, 1,\n",
              "       0, 1, 0, 1, 0, 0, 0, 0, 0, 0, 1, 0, 0, 0, 0, 0, 0, 1, 0, 0, 0, 0,\n",
              "       1, 0, 0, 1, 0, 1, 1, 0, 0, 0, 1, 0, 0, 0, 0, 0, 0, 1, 0, 0, 0, 1,\n",
              "       0, 0, 0, 0, 1, 0, 0, 0, 0, 0, 1, 0, 1, 1, 1, 1, 0, 0, 1, 1, 0, 1,\n",
              "       0, 0, 0, 1, 0, 0, 0, 0, 0, 0, 1, 1])"
            ]
          },
          "metadata": {},
          "execution_count": 17
        }
      ]
    },
    {
      "cell_type": "code",
      "source": [
        "#Creating the Confusion matrix\n",
        "from sklearn.metrics import confusion_matrix\n",
        "cm= confusion_matrix(y_test, y_pred)\n",
        "# ytest is test data target variable\n"
      ],
      "metadata": {
        "id": "9npTrCxWUEy4"
      },
      "execution_count": 18,
      "outputs": []
    },
    {
      "cell_type": "code",
      "source": [
        "cm"
      ],
      "metadata": {
        "colab": {
          "base_uri": "https://localhost:8080/"
        },
        "id": "m5zzOE_lUE2Y",
        "outputId": "4cdc09fe-0a89-444c-afe4-f2b16ec67348"
      },
      "execution_count": 19,
      "outputs": [
        {
          "output_type": "execute_result",
          "data": {
            "text/plain": [
              "array([[65,  3],\n",
              "       [ 8, 24]])"
            ]
          },
          "metadata": {},
          "execution_count": 19
        }
      ]
    }
  ]
}